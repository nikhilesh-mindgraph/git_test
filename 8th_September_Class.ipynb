{
 "cells": [
  {
   "cell_type": "markdown",
   "id": "df2bdc43",
   "metadata": {},
   "source": [
    "# Python Basic "
   ]
  },
  {
   "cell_type": "markdown",
   "id": "4b439bea",
   "metadata": {},
   "source": [
    "* For Executing every cell (Ctrl + Enter) (For pointing in the same cell after execution)\n",
    "* For Executing every cell (Shift + Enter) (For moving to next cell after execution)"
   ]
  },
  {
   "cell_type": "markdown",
   "id": "0077b21d",
   "metadata": {},
   "source": [
    "* Point 1\n",
    "    * Sub-Point 1\n",
    "        * Sub-Point 1.1\n",
    "    * Sub-Point 2\n",
    "        * Sub-Point 2.1"
   ]
  },
  {
   "cell_type": "markdown",
   "id": "12a7f9c4",
   "metadata": {},
   "source": [
    "* Operating Jupyter Notebook\n",
    "    * To add a new cell above - Select the cell + Press A\n",
    "    * To add a new cell below - Select the cell + Press B\n",
    "    * To Delete a cell - Select the cell\n",
    "        * Press \"D\" + \"D\" fast\n",
    "        * Press \"X\""
   ]
  },
  {
   "cell_type": "code",
   "execution_count": null,
   "id": "697f278d",
   "metadata": {},
   "outputs": [],
   "source": []
  },
  {
   "cell_type": "code",
   "execution_count": 15,
   "id": "2c8cf2e7",
   "metadata": {},
   "outputs": [],
   "source": [
    "# Single line comment - Ctrl + \"/\""
   ]
  },
  {
   "cell_type": "code",
   "execution_count": 18,
   "id": "a0adebbe",
   "metadata": {},
   "outputs": [],
   "source": [
    "# Select all and then Ctrl + \"/\"\n",
    "# Multi line comment"
   ]
  },
  {
   "cell_type": "markdown",
   "id": "b28d4217",
   "metadata": {},
   "source": [
    "* For adding a comment - Select all (Ctrl+A) + Ctrl + \"/\"\n",
    "* For removing a comment - Select all (Ctrl+A) + Ctrl + \"/\"\n",
    "        * Both are applicable for single line and multi line comments"
   ]
  },
  {
   "cell_type": "markdown",
   "id": "17876545",
   "metadata": {},
   "source": [
    "# Heading "
   ]
  },
  {
   "cell_type": "markdown",
   "id": "76ca12ee",
   "metadata": {},
   "source": [
    "## Sub Heading 1"
   ]
  },
  {
   "cell_type": "markdown",
   "id": "3a5eb0c6",
   "metadata": {},
   "source": [
    "### Sub Heading 2"
   ]
  },
  {
   "cell_type": "markdown",
   "id": "62476323",
   "metadata": {},
   "source": [
    "#### Sub Heading 3"
   ]
  },
  {
   "cell_type": "markdown",
   "id": "bea3a68c",
   "metadata": {},
   "source": [
    "#### Sub Heading 4"
   ]
  },
  {
   "cell_type": "code",
   "execution_count": null,
   "id": "7cbed316",
   "metadata": {},
   "outputs": [],
   "source": []
  },
  {
   "cell_type": "code",
   "execution_count": 3,
   "id": "48c4a862",
   "metadata": {},
   "outputs": [
    {
     "data": {
      "text/plain": [
       "2"
      ]
     },
     "execution_count": 3,
     "metadata": {},
     "output_type": "execute_result"
    }
   ],
   "source": [
    "2 # executable integer statement"
   ]
  },
  {
   "cell_type": "code",
   "execution_count": 4,
   "id": "1c283ab0",
   "metadata": {},
   "outputs": [
    {
     "data": {
      "text/plain": [
       "int"
      ]
     },
     "execution_count": 4,
     "metadata": {},
     "output_type": "execute_result"
    }
   ],
   "source": [
    "type(2)"
   ]
  },
  {
   "cell_type": "code",
   "execution_count": 5,
   "id": "9bf0f39b",
   "metadata": {},
   "outputs": [],
   "source": [
    "# 2 - commented(single line comment)"
   ]
  },
  {
   "cell_type": "code",
   "execution_count": 6,
   "id": "90de7ec6",
   "metadata": {},
   "outputs": [
    {
     "data": {
      "text/plain": [
       "'my name is nikhilesh'"
      ]
     },
     "execution_count": 6,
     "metadata": {},
     "output_type": "execute_result"
    }
   ],
   "source": [
    "\"my name is nikhilesh\" #- executable string statement"
   ]
  },
  {
   "cell_type": "code",
   "execution_count": 7,
   "id": "76c8c09b",
   "metadata": {},
   "outputs": [
    {
     "data": {
      "text/plain": [
       "str"
      ]
     },
     "execution_count": 7,
     "metadata": {},
     "output_type": "execute_result"
    }
   ],
   "source": [
    "type(\"my name is nikhilesh\")"
   ]
  },
  {
   "cell_type": "code",
   "execution_count": 19,
   "id": "a2c94ab6",
   "metadata": {},
   "outputs": [
    {
     "data": {
      "text/plain": [
       "3.4"
      ]
     },
     "execution_count": 19,
     "metadata": {},
     "output_type": "execute_result"
    }
   ],
   "source": [
    "3.4"
   ]
  },
  {
   "cell_type": "code",
   "execution_count": 20,
   "id": "f3f3ffa2",
   "metadata": {},
   "outputs": [
    {
     "data": {
      "text/plain": [
       "float"
      ]
     },
     "execution_count": 20,
     "metadata": {},
     "output_type": "execute_result"
    }
   ],
   "source": [
    "type(3.4)"
   ]
  },
  {
   "cell_type": "code",
   "execution_count": 21,
   "id": "13246d4a",
   "metadata": {},
   "outputs": [
    {
     "data": {
      "text/plain": [
       "True"
      ]
     },
     "execution_count": 21,
     "metadata": {},
     "output_type": "execute_result"
    }
   ],
   "source": [
    "True"
   ]
  },
  {
   "cell_type": "code",
   "execution_count": 22,
   "id": "b7fe1049",
   "metadata": {},
   "outputs": [
    {
     "data": {
      "text/plain": [
       "False"
      ]
     },
     "execution_count": 22,
     "metadata": {},
     "output_type": "execute_result"
    }
   ],
   "source": [
    "False"
   ]
  },
  {
   "cell_type": "code",
   "execution_count": 23,
   "id": "10f3243e",
   "metadata": {},
   "outputs": [
    {
     "data": {
      "text/plain": [
       "bool"
      ]
     },
     "execution_count": 23,
     "metadata": {},
     "output_type": "execute_result"
    }
   ],
   "source": [
    "type(True)"
   ]
  },
  {
   "cell_type": "code",
   "execution_count": 24,
   "id": "5ac4fefb",
   "metadata": {},
   "outputs": [
    {
     "data": {
      "text/plain": [
       "bool"
      ]
     },
     "execution_count": 24,
     "metadata": {},
     "output_type": "execute_result"
    }
   ],
   "source": [
    "type(False)"
   ]
  },
  {
   "cell_type": "markdown",
   "id": "d35b72d3",
   "metadata": {},
   "source": [
    "* DataTypes\n",
    "    * INTEGER - int\n",
    "    * FLOAT- float\n",
    "    * BOOLEAN - True/False\n",
    "    * STRING - str\n",
    "    "
   ]
  },
  {
   "cell_type": "code",
   "execution_count": null,
   "id": "5d658aa1",
   "metadata": {},
   "outputs": [],
   "source": []
  },
  {
   "cell_type": "code",
   "execution_count": 9,
   "id": "d84d3869",
   "metadata": {},
   "outputs": [
    {
     "data": {
      "text/plain": [
       "'a'"
      ]
     },
     "execution_count": 9,
     "metadata": {},
     "output_type": "execute_result"
    }
   ],
   "source": [
    "\"a\" #Character"
   ]
  },
  {
   "cell_type": "code",
   "execution_count": 32,
   "id": "f1b57b3b",
   "metadata": {},
   "outputs": [
    {
     "ename": "NameError",
     "evalue": "name 'a' is not defined",
     "output_type": "error",
     "traceback": [
      "\u001b[1;31m---------------------------------------------------------------------------\u001b[0m",
      "\u001b[1;31mNameError\u001b[0m                                 Traceback (most recent call last)",
      "Input \u001b[1;32mIn [32]\u001b[0m, in \u001b[0;36m<cell line: 1>\u001b[1;34m()\u001b[0m\n\u001b[1;32m----> 1\u001b[0m \u001b[43ma\u001b[49m\n",
      "\u001b[1;31mNameError\u001b[0m: name 'a' is not defined"
     ]
    }
   ],
   "source": [
    "a #acting like a variable"
   ]
  },
  {
   "cell_type": "code",
   "execution_count": 26,
   "id": "79ba021b",
   "metadata": {},
   "outputs": [
    {
     "data": {
      "text/plain": [
       "'a'"
      ]
     },
     "execution_count": 26,
     "metadata": {},
     "output_type": "execute_result"
    }
   ],
   "source": [
    "\"a\" #Character or string"
   ]
  },
  {
   "cell_type": "code",
   "execution_count": 27,
   "id": "8602d8f0",
   "metadata": {},
   "outputs": [
    {
     "ename": "NameError",
     "evalue": "name 'my_name_is_nikhilesh' is not defined",
     "output_type": "error",
     "traceback": [
      "\u001b[1;31m---------------------------------------------------------------------------\u001b[0m",
      "\u001b[1;31mNameError\u001b[0m                                 Traceback (most recent call last)",
      "Input \u001b[1;32mIn [27]\u001b[0m, in \u001b[0;36m<cell line: 1>\u001b[1;34m()\u001b[0m\n\u001b[1;32m----> 1\u001b[0m \u001b[43mmy_name_is_nikhilesh\u001b[49m\n",
      "\u001b[1;31mNameError\u001b[0m: name 'my_name_is_nikhilesh' is not defined"
     ]
    }
   ],
   "source": [
    "my_name_is_nikhilesh #acting like a variable"
   ]
  },
  {
   "cell_type": "code",
   "execution_count": 28,
   "id": "4adb3f3f",
   "metadata": {},
   "outputs": [
    {
     "ename": "SyntaxError",
     "evalue": "invalid syntax (2244627460.py, line 1)",
     "output_type": "error",
     "traceback": [
      "\u001b[1;36m  Input \u001b[1;32mIn [28]\u001b[1;36m\u001b[0m\n\u001b[1;33m    my name is nikhilesh # combination of seperate variable names and characters\u001b[0m\n\u001b[1;37m       ^\u001b[0m\n\u001b[1;31mSyntaxError\u001b[0m\u001b[1;31m:\u001b[0m invalid syntax\n"
     ]
    }
   ],
   "source": [
    "my name is nikhilesh # combination of seperate variable names and characters"
   ]
  },
  {
   "cell_type": "code",
   "execution_count": 29,
   "id": "5a3c6b29",
   "metadata": {},
   "outputs": [
    {
     "data": {
      "text/plain": [
       "str"
      ]
     },
     "execution_count": 29,
     "metadata": {},
     "output_type": "execute_result"
    }
   ],
   "source": [
    "type(\"my name is nikhilesh\")"
   ]
  },
  {
   "cell_type": "markdown",
   "id": "fda982e6",
   "metadata": {},
   "source": [
    "   * Strings are always enclosed within single quotes 'String' or 'Double Quotes'"
   ]
  },
  {
   "cell_type": "code",
   "execution_count": 30,
   "id": "fe29dcfb",
   "metadata": {},
   "outputs": [
    {
     "data": {
      "text/plain": [
       "'Single Quotes String Example'"
      ]
     },
     "execution_count": 30,
     "metadata": {},
     "output_type": "execute_result"
    }
   ],
   "source": [
    "# Single Quotes Example\n",
    "'Single Quotes String Example'"
   ]
  },
  {
   "cell_type": "code",
   "execution_count": 31,
   "id": "0422989f",
   "metadata": {},
   "outputs": [
    {
     "data": {
      "text/plain": [
       "'Double Quotes String Example'"
      ]
     },
     "execution_count": 31,
     "metadata": {},
     "output_type": "execute_result"
    }
   ],
   "source": [
    "# Double Quotes Example\n",
    "\"Double Quotes String Example\""
   ]
  },
  {
   "cell_type": "markdown",
   "id": "c163513b",
   "metadata": {},
   "source": [
    "* From Code to Markdown - Select the cell and press M\n",
    "* From Markdown to code - Select the cell and press Y"
   ]
  },
  {
   "cell_type": "markdown",
   "id": "d672bdd0",
   "metadata": {},
   "source": [
    "### Use a variable"
   ]
  },
  {
   "cell_type": "code",
   "execution_count": 34,
   "id": "0f44b763",
   "metadata": {},
   "outputs": [],
   "source": [
    "# a variable is a container ,which stores the values\n",
    "variable = \"value\"   # a variable is a container, which stored value of string type"
   ]
  },
  {
   "cell_type": "code",
   "execution_count": 35,
   "id": "e693bde2",
   "metadata": {},
   "outputs": [
    {
     "data": {
      "text/plain": [
       "'value'"
      ]
     },
     "execution_count": 35,
     "metadata": {},
     "output_type": "execute_result"
    }
   ],
   "source": [
    "variable"
   ]
  },
  {
   "cell_type": "code",
   "execution_count": 38,
   "id": "a6f96cb6",
   "metadata": {},
   "outputs": [],
   "source": [
    "a=10 #which stored value of integer 10 in container/variable a"
   ]
  },
  {
   "cell_type": "markdown",
   "id": "8668617d",
   "metadata": {},
   "source": [
    "* = is an assignment operator\n",
    "* == is a comparision operator"
   ]
  },
  {
   "cell_type": "code",
   "execution_count": 43,
   "id": "0550bc71",
   "metadata": {},
   "outputs": [],
   "source": [
    "a = 5 # assigning a value of 5 to variable"
   ]
  },
  {
   "cell_type": "code",
   "execution_count": 44,
   "id": "248e2c77",
   "metadata": {},
   "outputs": [
    {
     "data": {
      "text/plain": [
       "5"
      ]
     },
     "execution_count": 44,
     "metadata": {},
     "output_type": "execute_result"
    }
   ],
   "source": [
    "a"
   ]
  },
  {
   "cell_type": "code",
   "execution_count": 45,
   "id": "107d353f",
   "metadata": {},
   "outputs": [
    {
     "data": {
      "text/plain": [
       "False"
      ]
     },
     "execution_count": 45,
     "metadata": {},
     "output_type": "execute_result"
    }
   ],
   "source": [
    "a == 10 # comparision"
   ]
  },
  {
   "cell_type": "code",
   "execution_count": 46,
   "id": "d1d2be37",
   "metadata": {},
   "outputs": [
    {
     "data": {
      "text/plain": [
       "int"
      ]
     },
     "execution_count": 46,
     "metadata": {},
     "output_type": "execute_result"
    }
   ],
   "source": [
    "type(a)"
   ]
  },
  {
   "cell_type": "code",
   "execution_count": 47,
   "id": "f83049fc",
   "metadata": {},
   "outputs": [
    {
     "data": {
      "text/plain": [
       "True"
      ]
     },
     "execution_count": 47,
     "metadata": {},
     "output_type": "execute_result"
    }
   ],
   "source": [
    "type(a) == int"
   ]
  },
  {
   "cell_type": "code",
   "execution_count": 48,
   "id": "07f6b92f",
   "metadata": {},
   "outputs": [
    {
     "data": {
      "text/plain": [
       "False"
      ]
     },
     "execution_count": 48,
     "metadata": {},
     "output_type": "execute_result"
    }
   ],
   "source": [
    "type(a) == float"
   ]
  },
  {
   "cell_type": "code",
   "execution_count": 49,
   "id": "b680da48",
   "metadata": {},
   "outputs": [
    {
     "data": {
      "text/plain": [
       "False"
      ]
     },
     "execution_count": 49,
     "metadata": {},
     "output_type": "execute_result"
    }
   ],
   "source": [
    "type(a) == bool"
   ]
  },
  {
   "cell_type": "code",
   "execution_count": 50,
   "id": "195792cb",
   "metadata": {},
   "outputs": [
    {
     "data": {
      "text/plain": [
       "True"
      ]
     },
     "execution_count": 50,
     "metadata": {},
     "output_type": "execute_result"
    }
   ],
   "source": [
    "(type(a)==int)== True"
   ]
  },
  {
   "cell_type": "code",
   "execution_count": 51,
   "id": "7e000613",
   "metadata": {},
   "outputs": [
    {
     "data": {
      "text/plain": [
       "False"
      ]
     },
     "execution_count": 51,
     "metadata": {},
     "output_type": "execute_result"
    }
   ],
   "source": [
    "((type(a)==int)==True)!=True"
   ]
  },
  {
   "cell_type": "code",
   "execution_count": 53,
   "id": "b5e1be62",
   "metadata": {},
   "outputs": [],
   "source": [
    "a = True"
   ]
  },
  {
   "cell_type": "code",
   "execution_count": 55,
   "id": "e303ffab",
   "metadata": {},
   "outputs": [
    {
     "data": {
      "text/plain": [
       "False"
      ]
     },
     "execution_count": 55,
     "metadata": {},
     "output_type": "execute_result"
    }
   ],
   "source": [
    "(((type(a)==int)==True)!=True)!=(False !=type(a))"
   ]
  },
  {
   "cell_type": "code",
   "execution_count": null,
   "id": "d369ff31",
   "metadata": {},
   "outputs": [],
   "source": []
  },
  {
   "cell_type": "code",
   "execution_count": 39,
   "id": "60690572",
   "metadata": {},
   "outputs": [
    {
     "data": {
      "text/plain": [
       "int"
      ]
     },
     "execution_count": 39,
     "metadata": {},
     "output_type": "execute_result"
    }
   ],
   "source": [
    "type(a)"
   ]
  },
  {
   "cell_type": "code",
   "execution_count": 42,
   "id": "42e5e322",
   "metadata": {},
   "outputs": [
    {
     "data": {
      "text/plain": [
       "True"
      ]
     },
     "execution_count": 42,
     "metadata": {},
     "output_type": "execute_result"
    }
   ],
   "source": [
    "type(a) == int"
   ]
  },
  {
   "cell_type": "code",
   "execution_count": 2,
   "id": "063516b2",
   "metadata": {},
   "outputs": [
    {
     "data": {
      "text/plain": [
       "'a'"
      ]
     },
     "execution_count": 2,
     "metadata": {},
     "output_type": "execute_result"
    }
   ],
   "source": [
    "\"a\" # character"
   ]
  }
 ],
 "metadata": {
  "kernelspec": {
   "display_name": "Python 3 (ipykernel)",
   "language": "python",
   "name": "python3"
  },
  "language_info": {
   "codemirror_mode": {
    "name": "ipython",
    "version": 3
   },
   "file_extension": ".py",
   "mimetype": "text/x-python",
   "name": "python",
   "nbconvert_exporter": "python",
   "pygments_lexer": "ipython3",
   "version": "3.9.12"
  }
 },
 "nbformat": 4,
 "nbformat_minor": 5
}
